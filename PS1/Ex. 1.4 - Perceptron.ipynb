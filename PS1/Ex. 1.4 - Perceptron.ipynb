{
 "cells": [
  {
   "cell_type": "markdown",
   "metadata": {},
   "source": [
    "Adam Abate\n",
    "CS 520 - Neural Networks for Machine Learning\n",
    "2/24/19"
   ]
  },
  {
   "cell_type": "code",
   "execution_count": 58,
   "metadata": {
    "collapsed": true
   },
   "outputs": [],
   "source": [
    "import random\n",
    "\n",
    "class Perceptron:\n",
    "    \n",
    "    def __init__(self):\n",
    "        \n",
    "        self.w0 = 0.1\n",
    "        self.w1 = 0.1\n",
    "        self.w2 = 0.1\n",
    "\n",
    "    def predict(self, x1, x2):\n",
    "        \n",
    "        prediction = self.w0 + self.w1*x1 + self.w2*x2\n",
    "        \n",
    "        if (prediction < 0):\n",
    "            return -1\n",
    "        \n",
    "        if (prediction > 0):\n",
    "            return 1\n",
    "        \n",
    "    def isMisclassified(self, data):\n",
    "        \n",
    "        #Set a counter for the number of correctly classified data points\n",
    "        numCorrClass = 0\n",
    "        \n",
    "        for i in range(0, len(data)):\n",
    "            \n",
    "            prediction = self.predict(data[i][0], data[i][1])\n",
    "            \n",
    "            #If a single data point is misclassified, we stop checking -> return True\n",
    "            if (prediction != data[i][2]):\n",
    "                break\n",
    "            \n",
    "            else:\n",
    "                numCorrClass += 1\n",
    "        \n",
    "        #If all data points have been correctly classified, misclassified is False\n",
    "        if (numCorrClass == len(data)):\n",
    "            return False\n",
    "        \n",
    "        else:\n",
    "            return True\n",
    "        \n",
    "    \n",
    "    def PLA(self, data):\n",
    "    \n",
    "        misclassified = True\n",
    "    \n",
    "        while (misclassified == True):\n",
    "            \n",
    "            i = random.randint(0, len(data)-1)\n",
    "            \n",
    "            #First two columns of data are x1 and x2, respectively\n",
    "            prediction = self.predict(data[i][0], data[i][1])\n",
    "        \n",
    "            #Third column of data is y         \n",
    "            if (prediction == 1 and data[i][2] == -1):\n",
    "                #Adjusted weights are initial weights plus target output times input\n",
    "                #print(\"Adjusted weight for data point \"+ str(i))\n",
    "                self.w0 += data[i][2]*1\n",
    "                self.w1 += data[i][2]*data[i][0]\n",
    "                self.w2 += data[i][2]*data[i][1]\n",
    "            \n",
    "            elif (prediction == -1 and data[i][2] == 1):\n",
    "                #Adjusted weights are initial weights plus target output times input\n",
    "                #print(\"Adjusted weight for data point \"+ str(i))\n",
    "                self.w0 += data[i][2]*1\n",
    "                self.w1 += data[i][2]*data[i][0]\n",
    "                self.w2 += data[i][2]*data[i][1]\n",
    "            \n",
    "            misclassified = self.isMisclassified(data)\n",
    "            \n",
    "        \n",
    "    def getDecisionBoundary(self):\n",
    "        \n",
    "        return [self.w0, self.w1, self.w2]"
   ]
  },
  {
   "cell_type": "code",
   "execution_count": 59,
   "metadata": {},
   "outputs": [
    {
     "data": {
      "text/plain": [
       "[-1.9445071172363466, -2.819703349931486, 6.634823972921652]"
      ]
     },
     "execution_count": 59,
     "metadata": {},
     "output_type": "execute_result"
    }
   ],
   "source": [
    "#RANDOMLY GENERATE TARGET FUNCTION\n",
    "#Three dimensions of tf correspond to bias, w1, and w2 of target function\n",
    "w = [random.uniform(-10,10), random.uniform(-10,10), random.uniform(-10,10)]\n",
    "w"
   ]
  },
  {
   "cell_type": "code",
   "execution_count": 60,
   "metadata": {},
   "outputs": [
    {
     "data": {
      "text/plain": [
       "[[7.167595708384299, 5.993739599413718, 1],\n",
       " [2.0521993907390836, 1.855528264335644, 1],\n",
       " [3.604668550362721, 8.153099460526153, 1],\n",
       " [0.13576842577983972, 7.664990253638072, 1],\n",
       " [7.624544069529184, 5.367129284027828, 1],\n",
       " [3.8436316903066334, 4.906389401695874, 1],\n",
       " [2.340609344908521, 3.840432557746929, 1],\n",
       " [4.531832468486019, 9.483313369629505, 1],\n",
       " [8.036834692689908, 6.965047045069853, 1],\n",
       " [1.1241969771759153, 4.90018101761982, 1],\n",
       " [8.971574739587199, 1.7791293871488734, -1],\n",
       " [6.874602663389665, 2.3042611498987977, -1],\n",
       " [6.1887160542846145, 0.6031027164804492, -1],\n",
       " [8.27615638400053, 1.107727312697806, -1],\n",
       " [7.766277578921241, 1.8191973042947118, -1],\n",
       " [9.521363917421912, 2.2134199990994907, -1],\n",
       " [4.621201290405828, 2.0273882191190964, -1],\n",
       " [6.357564679720449, 2.205912566804007, -1],\n",
       " [7.816561959944868, 2.859094271802125, -1],\n",
       " [4.772460757059097, 0.7194306077884904, -1]]"
      ]
     },
     "execution_count": 60,
     "metadata": {},
     "output_type": "execute_result"
    }
   ],
   "source": [
    "#RANDOMLY GENERATE DATA AROUND TARGET FUNCTION\n",
    "posCount = 0\n",
    "negCount = 0\n",
    "data = []\n",
    "\n",
    "while (posCount < 10):\n",
    "    \n",
    "    x1 = random.uniform(0, 10)\n",
    "    x2 = random.uniform(0, 10)\n",
    "    \n",
    "    if (w[0] + x1*w[1] + x2*w[2] > 0):\n",
    "        posCount += 1\n",
    "        data.append([x1, x2, 1])\n",
    "\n",
    "while (negCount < 10):\n",
    "    \n",
    "    x1 = random.uniform(0, 10)\n",
    "    x2 = random.uniform(0, 10)\n",
    "    \n",
    "    if (w[0] + x1*w[1] + x2*w[2] < 0):\n",
    "        negCount += 1\n",
    "        data.append([x1, x2, -1])\n",
    "\n",
    "data"
   ]
  },
  {
   "cell_type": "code",
   "execution_count": 61,
   "metadata": {},
   "outputs": [
    {
     "data": {
      "image/png": "[encoded data removed]",
      "text/plain": [
       "<matplotlib.figure.Figure at 0x1e45ecbb048>"
      ]
     },
     "metadata": {},
     "output_type": "display_data"
    }
   ],
   "source": [
    "#DISPLAY DATA AND THEIR CLASSIFICATIONS\n",
    "import matplotlib.pyplot as plt\n",
    "import numpy as np\n",
    "%matplotlib inline\n",
    "\n",
    "data1 = np.array(data)\n",
    "\n",
    "plt.scatter(data1[:,0], data1[:,1], c=data1[:,2])\n",
    "#y = []\n",
    "#x = []\n",
    "#for i in range(0, 10):\n",
    "#    x.append(i)\n",
    "#    y.append()\n",
    "    \n",
    "plt.plot()\n",
    "plt.show()"
   ]
  },
  {
   "cell_type": "code",
   "execution_count": 62,
   "metadata": {},
   "outputs": [
    {
     "name": "stdout",
     "output_type": "stream",
     "text": [
      "[0.10000000000000009, -6.614295410649202, 12.672579643798004]\n"
     ]
    }
   ],
   "source": [
    "#TRAIN THE PERCEPTRON\n",
    "perceptron = Perceptron()\n",
    "perceptron.PLA(data)\n",
    "print(perceptron.getDecisionBoundary())"
   ]
  },
  {
   "cell_type": "code",
   "execution_count": 63,
   "metadata": {},
   "outputs": [
    {
     "data": {
      "text/plain": [
       "<matplotlib.collections.PathCollection at 0x1e45ed6e9e8>"
      ]
     },
     "execution_count": 63,
     "metadata": {},
     "output_type": "execute_result"
    },
    {
     "data": {
      "image/png": "[encoded data removed]",
      "text/plain": [
       "<matplotlib.figure.Figure at 0x1e45eb9fba8>"
      ]
     },
     "metadata": {},
     "output_type": "display_data"
    }
   ],
   "source": [
    "#MAKE AND PLOT PERCEPTRON PREDICTIONS\n",
    "data2 = np.array(data)\n",
    "\n",
    "for i in range(len(data2)):\n",
    "    data2[i,2] = perceptron.predict(data2[i,0], data2[i,1])\n",
    "\n",
    "#If this plot looks like the one above, all points have been classified correctly.\n",
    "plt.scatter(data2[:,0], data2[:,1], c=data2[:,2])"
   ]
  },
  {
   "cell_type": "code",
   "execution_count": null,
   "metadata": {
    "collapsed": true
   },
   "outputs": [],
   "source": []
  }
 ],
 "metadata": {
  "kernelspec": {
   "display_name": "Python 3",
   "language": "python",
   "name": "python3"
  },
  "language_info": {
   "codemirror_mode": {
    "name": "ipython",
    "version": 3
   },
   "file_extension": ".py",
   "mimetype": "text/x-python",
   "name": "python",
   "nbconvert_exporter": "python",
   "pygments_lexer": "ipython3",
   "version": "3.6.7"
  }
 },
 "nbformat": 4,
 "nbformat_minor": 2
}
