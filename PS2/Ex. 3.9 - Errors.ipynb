{
 "cells": [
  {
   "cell_type": "code",
   "execution_count": 16,
   "metadata": {
    "collapsed": true
   },
   "outputs": [],
   "source": [
    "import numpy as np\n",
    "import matplotlib.pyplot as plt"
   ]
  },
  {
   "cell_type": "code",
   "execution_count": 7,
   "metadata": {},
   "outputs": [],
   "source": [
    "y = 1\n",
    "\n",
    "s = []\n",
    "i = -3.0\n",
    "while i <= 3.0:\n",
    "    s.append(i)\n",
    "    i += 0.1"
   ]
  },
  {
   "cell_type": "code",
   "execution_count": 26,
   "metadata": {},
   "outputs": [],
   "source": [
    "#a)\n",
    "\n",
    "#Get the class error\n",
    "def e_class(s, y):\n",
    "    if np.sign(s) != np.sign(y):\n",
    "        return 1\n",
    "    else:\n",
    "        return 0\n",
    "    \n",
    "e_class_list = []\n",
    "for i in range(len(s)):\n",
    "    e_class_list.append(e_class(s[i], y))"
   ]
  },
  {
   "cell_type": "code",
   "execution_count": 13,
   "metadata": {},
   "outputs": [],
   "source": [
    "#a) (cont)\n",
    "\n",
    "#Get the squared error\n",
    "def e_sqr(s, y):\n",
    "    return (y-s)**2\n",
    "\n",
    "e_sqr_list = []\n",
    "for i in range(len(s)):\n",
    "    e_sqr_list.append(e_sqr(s[i], y))"
   ]
  },
  {
   "cell_type": "code",
   "execution_count": 15,
   "metadata": {},
   "outputs": [],
   "source": [
    "#a) (cont)\n",
    "\n",
    "#Get the log error\n",
    "def e_lg(s, y):\n",
    "    return np.log(1 + np.exp(-y*s))\n",
    "\n",
    "e_lg_list = []\n",
    "for i in range(len(s)):\n",
    "    e_lg_list.append(e_lg(s[i], y)/np.log(2.0))"
   ]
  },
  {
   "cell_type": "code",
   "execution_count": 27,
   "metadata": {},
   "outputs": [
    {
     "data": {
      "image/png": "[encoded data removed]",
      "text/plain": [
       "<matplotlib.figure.Figure at 0x144667ef828>"
      ]
     },
     "metadata": {},
     "output_type": "display_data"
    }
   ],
   "source": [
    "#a) (cont)\n",
    "\n",
    "#Plot above errors vs s\n",
    "plt.scatter(s, e_class_list, label=\"Class Error\")\n",
    "plt.scatter(s, e_sqr_list, label = \"Squared Error\")\n",
    "plt.scatter(s, e_lg_list, label = \"Log Error\")\n",
    "plt.xlabel(\"Signal s\")\n",
    "plt.ylabel(\"Error\")\n",
    "plt.legend()\n",
    "plt.title(\"Error Values Versus Signals for Output y = +1\")\n",
    "plt.show()"
   ]
  }
 ],
 "metadata": {
  "kernelspec": {
   "display_name": "Python 3",
   "language": "python",
   "name": "python3"
  },
  "language_info": {
   "codemirror_mode": {
    "name": "ipython",
    "version": 3
   },
   "file_extension": ".py",
   "mimetype": "text/x-python",
   "name": "python",
   "nbconvert_exporter": "python",
   "pygments_lexer": "ipython3",
   "version": "3.6.7"
  }
 },
 "nbformat": 4,
 "nbformat_minor": 2
}
