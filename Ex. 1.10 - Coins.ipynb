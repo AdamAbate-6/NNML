{
 "cells": [
  {
   "cell_type": "markdown",
   "metadata": {},
   "source": [
    "Adam Abate\n",
    "CS 520 - Neural Networks for Machine Learning\n",
    "2/25/19"
   ]
  },
  {
   "cell_type": "code",
   "execution_count": 3,
   "metadata": {
    "collapsed": true
   },
   "outputs": [],
   "source": [
    "import random\n",
    "\n",
    "def flipCoins():\n",
    "    #Each row is a coin, each column a flip\n",
    "    coinFlips = []\n",
    "\n",
    "    for coin in range(0, 1000):\n",
    "        flips = []\n",
    "\n",
    "        for flip in range(0,10):\n",
    "            #Assign flip value -- 1 is heads, 0 is tails\n",
    "            val = random.random()\n",
    "            if (val > 0.5):\n",
    "                val = 1\n",
    "            if (val < 0.5):\n",
    "                val = 0\n",
    "\n",
    "            flips.append(val)\n",
    "\n",
    "        coinFlips.append(flips)\n",
    "    return coinFlips"
   ]
  },
  {
   "cell_type": "code",
   "execution_count": 4,
   "metadata": {},
   "outputs": [
    {
     "name": "stdout",
     "output_type": "stream",
     "text": [
      "0.30000000000000004\n",
      "0.6\n",
      "0.1\n"
     ]
    }
   ],
   "source": [
    "#Input a vector with the flips and results of those flips for a coin\n",
    "#Output the frequency of heads for that coin\n",
    "\n",
    "coinFlips = flipCoins()\n",
    "\n",
    "def findFreq(coinVec):\n",
    "    \n",
    "    headFreq = 0\n",
    "    #Iterate over each flip\n",
    "    for flip in range(0,len(coinVec)):\n",
    "        #If the flip is a head, increment the frequency of heads\n",
    "        if (coinVec[flip] == 1):\n",
    "            headFreq += 1.0/len(coinVec)\n",
    "    \n",
    "    return headFreq\n",
    "\n",
    "#Get the head frequencies of the requested coins\n",
    "v1 = findFreq(coinFlips[0])\n",
    "print(v1)\n",
    "\n",
    "vRand = findFreq(coinFlips[random.randint(0,len(coinFlips)-1)])\n",
    "print(vRand)\n",
    "\n",
    "#For vMin, first need to figure out which coin has the minimum frequency of heads\n",
    "vMin = 1.0\n",
    "for coin in range(0, 1000):\n",
    "    freq = findFreq(coinFlips[coin])\n",
    "    if (freq < vMin):\n",
    "        vMin = freq\n",
    "print(vMin)"
   ]
  },
  {
   "cell_type": "code",
   "execution_count": 5,
   "metadata": {},
   "outputs": [
    {
     "data": {
      "text/plain": [
       "0.3333333333333333"
      ]
     },
     "execution_count": 5,
     "metadata": {},
     "output_type": "execute_result"
    }
   ],
   "source": [
    "#a) The probability of heads mu of the three coins selected\n",
    "mu = (v1 + vRand + vMin)/3.0\n",
    "mu"
   ]
  },
  {
   "cell_type": "code",
   "execution_count": 6,
   "metadata": {
    "collapsed": true
   },
   "outputs": [],
   "source": [
    "#b) Repeat 10,000 times and get several v1, vRand, vMin\n",
    "#Note: 10,000 experiments chosen due to reduced computation time as compared to 100,000 experiments\n",
    "import numpy as np\n",
    "\n",
    "experiments = []\n",
    "for i in range(0,10000):\n",
    "    \n",
    "    coinFlips = flipCoins()\n",
    "    \n",
    "    v1 = findFreq(coinFlips[0])\n",
    "    vRand = findFreq(coinFlips[random.randint(0,len(coinFlips)-1)])\n",
    "    vMin = 1.0\n",
    "    for coin in range(0, 1000):\n",
    "        freq = findFreq(coinFlips[coin])\n",
    "        if (freq < vMin):\n",
    "            vMin = freq\n",
    "    experiments.append([v1, vRand, vMin])\n",
    "\n",
    "experiments = np.array(experiments)"
   ]
  },
  {
   "cell_type": "code",
   "execution_count": 7,
   "metadata": {},
   "outputs": [
    {
     "data": {
      "image/png": "[encoded data removed]",
      "text/plain": [
       "<matplotlib.figure.Figure at 0x1bfa2eee160>"
      ]
     },
     "metadata": {},
     "output_type": "display_data"
    }
   ],
   "source": [
    "#b) cont.\n",
    "import matplotlib.pyplot as plt\n",
    "\n",
    "#Plot v1\n",
    "numBins = 100\n",
    "plt.hist(experiments[:,0], numBins)\n",
    "plt.show()"
   ]
  },
  {
   "cell_type": "code",
   "execution_count": 8,
   "metadata": {},
   "outputs": [
    {
     "data": {
      "image/png": "[encoded data removed]",
      "text/plain": [
       "<matplotlib.figure.Figure at 0x1bfa2eee390>"
      ]
     },
     "metadata": {},
     "output_type": "display_data"
    }
   ],
   "source": [
    "#b) cont.\n",
    "import matplotlib.pyplot as plt\n",
    "\n",
    "#Plot v1\n",
    "numBins = 100\n",
    "plt.hist(experiments[:,1], numBins)\n",
    "plt.show()"
   ]
  },
  {
   "cell_type": "code",
   "execution_count": 9,
   "metadata": {},
   "outputs": [
    {
     "data": {
      "image/png": "[encoded data removed]",
      "text/plain": [
       "<matplotlib.figure.Figure at 0x1bfb50bf748>"
      ]
     },
     "metadata": {},
     "output_type": "display_data"
    }
   ],
   "source": [
    "#b) cont.\n",
    "import matplotlib.pyplot as plt\n",
    "\n",
    "#Plot v1\n",
    "numBins = 100\n",
    "plt.hist(experiments[:,2], numBins)\n",
    "plt.show()"
   ]
  },
  {
   "cell_type": "code",
   "execution_count": 30,
   "metadata": {
    "collapsed": true
   },
   "outputs": [],
   "source": [
    "#c) Plot estimates of P[|v-mu|>e] as a function of e with Hoeffding bound on same graph\n",
    "\n",
    "#Specify error bound values\n",
    "e = np.arange(0, 1.0, 0.05)\n",
    "\n",
    "#Size of each sample\n",
    "N=10\n",
    "\n",
    "#Known population probability of heads\n",
    "mu = 0.5\n",
    "\n",
    "#Formula to find P[|v-mu|>e]\n",
    "def hoeffdingLHS(expIndex):\n",
    "    #First, get number of occurences of |v-mu|>e for given e over all 10,000 experiments\n",
    "    lhs = []\n",
    "    for b in range(0, len(e)):\n",
    "        numTrue = 0\n",
    "        for i in range(0, len(experiments[:,expIndex])):\n",
    "            if (abs(experiments[i,expIndex] - mu) > e[b]):\n",
    "                numTrue += 1\n",
    "        #The probability of a first-coin sample having |v-mu|>e is the number of times this happens\n",
    "        #in our 10,000 experiments, divided by 10,000.\n",
    "        lhs.append(numTrue/float(len(experiments[:,0])))\n",
    "    return lhs"
   ]
  },
  {
   "cell_type": "code",
   "execution_count": 31,
   "metadata": {},
   "outputs": [
    {
     "data": {
      "image/png": "[encoded data removed]",
      "text/plain": [
       "<matplotlib.figure.Figure at 0x1bfb5545748>"
      ]
     },
     "metadata": {},
     "output_type": "display_data"
    }
   ],
   "source": [
    "import math\n",
    "#pV1MinusMu = []\n",
    "#for b in range(0, len(e)):\n",
    "#    #First, get number of occurences of |v1-mu|>e for given e over all 10,000 experiments\n",
    "#    numTrue = 0\n",
    "#    for i in range(0, len(experiments[:,0])):\n",
    "#        if (abs(experiments[i,0] - mu)) > e[b]:\n",
    "#            numTrue += 1\n",
    "#    #The probability of a first-coin sample having |v1-mu|>e is the number of times this happens\n",
    "#    #in our 10,000 experiments, divided by 10,000.\n",
    "#    pV1MinusMu.append(numTrue/float(len(experiments[:,0])))\n",
    "\n",
    "#Plot P[|v1-mu|>e]\n",
    "\n",
    "#Get LHS of Hoeffding for v1\n",
    "pV1MinusMu = hoeffdingLHS(0)\n",
    "    \n",
    "#v1MinusMu = [np.mean(experiments[:,0] - 0.5)]*len(e)\n",
    "plt.scatter(e, pV1MinusMu, color=\"red\", label=\"P[v1-mu]\")\n",
    "plt.xlabel(\"error\")\n",
    "\n",
    "#Plot Hoeffding RHS\n",
    "hBound = []\n",
    "for i in range(0, len(e)):\n",
    "    exp = -2*N*math.pow(e[i],2)\n",
    "    hBound.append(2*math.exp(exp))\n",
    "    \n",
    "plt.scatter(e, hBound, color=\"blue\", label=\"Hoeffding\")\n",
    "plt.legend()\n",
    "plt.show()"
   ]
  },
  {
   "cell_type": "code",
   "execution_count": 32,
   "metadata": {},
   "outputs": [
    {
     "data": {
      "image/png": "[encoded data removed]",
      "text/plain": [
       "<matplotlib.figure.Figure at 0x1bfb5398d68>"
      ]
     },
     "metadata": {},
     "output_type": "display_data"
    }
   ],
   "source": [
    "#c) cont.\n",
    "#Plot P[|vRand-mu|>e]\n",
    "\n",
    "#Get LHS of Hoeffding for vRand\n",
    "pVRandMinusMu = hoeffdingLHS(1)\n",
    "\n",
    "plt.scatter(e, pVRandMinusMu, color=\"red\", label=\"P[vRand-mu]\")\n",
    "plt.xlabel(\"error\")\n",
    "\n",
    "#Plot Hoeffding\n",
    "plt.scatter(e, hBound, color=\"blue\", label=\"Hoeffding\")\n",
    "plt.legend()\n",
    "plt.show()"
   ]
  },
  {
   "cell_type": "code",
   "execution_count": 33,
   "metadata": {},
   "outputs": [
    {
     "data": {
      "image/png": "[encoded data removed]",
      "text/plain": [
       "<matplotlib.figure.Figure at 0x1bfb4e69080>"
      ]
     },
     "metadata": {},
     "output_type": "display_data"
    }
   ],
   "source": [
    "#c) cont.\n",
    "#Plot P[|vMin-mu|>e]\n",
    "\n",
    "#Get LHS of Hoeffding for vMin\n",
    "pVMinMinusMu = hoeffdingLHS(2)\n",
    "\n",
    "#vMinMinusMu = [np.mean(experiments[:,2] - 0.5)]*len(e)\n",
    "plt.scatter(e, pVMinMinusMu, color=\"red\", label=\"P[vMin-mu]\")\n",
    "plt.xlabel(\"error\")\n",
    "\n",
    "#Plot Hoeffding\n",
    "plt.scatter(e, hBound, color=\"blue\", label=\"Hoeffding\")\n",
    "plt.legend()\n",
    "plt.show()"
   ]
  },
  {
   "cell_type": "code",
   "execution_count": null,
   "metadata": {
    "collapsed": true
   },
   "outputs": [],
   "source": []
  }
 ],
 "metadata": {
  "kernelspec": {
   "display_name": "Python 3",
   "language": "python",
   "name": "python3"
  },
  "language_info": {
   "codemirror_mode": {
    "name": "ipython",
    "version": 3
   },
   "file_extension": ".py",
   "mimetype": "text/x-python",
   "name": "python",
   "nbconvert_exporter": "python",
   "pygments_lexer": "ipython3",
   "version": "3.6.7"
  }
 },
 "nbformat": 4,
 "nbformat_minor": 2
}
