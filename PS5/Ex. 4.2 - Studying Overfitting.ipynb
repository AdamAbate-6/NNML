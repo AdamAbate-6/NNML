{
 "cells": [
  {
   "cell_type": "code",
   "execution_count": 100,
   "metadata": {},
   "outputs": [],
   "source": [
    "import numpy as np\n",
    "import random\n",
    "\n",
    "#--------------- Scenario Configuration\n",
    "\n",
    "# Initialize configuration variables.\n",
    "N_list = [50, 100, 500, 1000, 5000, 10000]\n",
    "Qf_list = [1, 5, 10, 15]\n",
    "sig_list = [0.01, 0.05, 0.1, 0.5, 1.0]\n",
    "\n",
    "o2AvgTestMSEs = []\n",
    "o10AvgTestMSEs = []\n",
    "\n",
    "# Get average test MSE for every configuration of N, Qf, and sig.\n",
    "for N in N_list:\n",
    "    for Qf in Qf_list:\n",
    "        for sig in sig_list:\n",
    "\n",
    "            # Repeat everything below multiple times (1000) in order to get expected out-of-sample error for this Q_f, N, sig scenario.\n",
    "            o2TestMSEs = []\n",
    "            o10TestMSEs = []\n",
    "\n",
    "            for i in range(0, 1000):\n",
    "\n",
    "                #--------------- Data and Parameter Generation\n",
    "\n",
    "                # Generate the data.\n",
    "                D = np.random.uniform(-1, 1.00001, N)\n",
    "\n",
    "                # Generate the errors from a standard normal distribution.\n",
    "                eps = np.random.normal(0.0, 1.0, N)\n",
    "\n",
    "                # Generate the target Legendre polynomial coefficients from a normal distribution.\n",
    "                a = np.random.normal(0.0, 1.0, Qf)\n",
    "\n",
    "                #--------------- Targets\n",
    "\n",
    "                # Set target function f(x) as sum of Legendre polynomials to order Qf with above coefficients.\n",
    "                f = np.polynomial.legendre.Legendre(coef=a)\n",
    "\n",
    "                # Rescale coefficients such that the expectation value of f^2 is 1.\n",
    "                # Average of a function is 1/(b-a) times its integral from b to a.\n",
    "                integ = f.integ(m=1)\n",
    "                avg = 0.5*(np.polynomial.polynomial.polyval(1, integ.coef) - np.polynomial.polynomial.polyval(-1, integ.coef))\n",
    "                # Rescaling coefficients by 1/avg produces an expectation value of f^2 that is 1.\n",
    "                a = a/avg\n",
    "                f = np.polynomial.legendre.Legendre(coef=a)\n",
    "                integ = f.integ(m=1)\n",
    "                avg = 0.5*(np.polynomial.polynomial.polyval(1, integ.coef) - np.polynomial.polynomial.polyval(-1, integ.coef))\n",
    "\n",
    "                # Calculate target outputs.\n",
    "                y_target = []\n",
    "                for i in range(0, len(D)):\n",
    "                    # Evaluate target function on point.\n",
    "                    f_x = np.polynomial.polynomial.polyval(D[i], f.coef)\n",
    "                    # Apply random noise.\n",
    "                    noise = sig * eps[i]\n",
    "                    y_target.append(f_x + noise)\n",
    "\n",
    "                #--------------- Data Split\n",
    "\n",
    "                # Split data into training and testing (70/30).\n",
    "                numTrain = int(0.7*len(D))\n",
    "                # The first list in D_train is x values; the second is targets.\n",
    "                D_train = [[], []]\n",
    "                # D_test has the same structure.\n",
    "                D_test = [[], []]\n",
    "                for i in range(0, numTrain):\n",
    "                    index = random.randint(0,len(D)-1)\n",
    "                    D_train[0].append(D[index])\n",
    "                    D_train[1].append(y_target[index])\n",
    "                    D = np.delete(D, index)\n",
    "\n",
    "                for i in range(0, len(D)):\n",
    "                    index = random.randint(0,len(D)-1)\n",
    "                    D_test[0].append(D[index])\n",
    "                    D_test[1].append(y_target[index])\n",
    "                    D = np.delete(D, index)\n",
    "\n",
    "                #--------------- Fitting and Evaluation of Hypotheses\n",
    "\n",
    "                # Train second-order polynomial on training data.\n",
    "                order2Fit = np.polynomial.polynomial.Polynomial.fit(x=D_train[0], y=D_train[1], deg=2)\n",
    "\n",
    "                # Train tenth-order polynomial on training data.\n",
    "                order10Fit = np.polynomial.polynomial.Polynomial.fit(x=D_train[0], y=D_train[1], deg=10)\n",
    "\n",
    "                # Evaluate fits on test data and calculate test errors.\n",
    "                o2TestMSE = 0\n",
    "                o10TestMSE = 0\n",
    "                for i in range(0, len(D_test[0])):\n",
    "                    o2TestPred = np.polynomial.polynomial.polyval(D_test[0][i], order2Fit.coef)\n",
    "                    o2SqdErr = np.power((o2TestPred - D_test[1][i]),2)\n",
    "                    o2TestMSE += float(o2SqdErr)/len(D_test[0])\n",
    "\n",
    "                    o10TestPred = np.polynomial.polynomial.polyval(D_test[0][i], order10Fit.coef)\n",
    "                    o10SqdErr = np.power((o10TestPred - D_test[1][i]),2)\n",
    "                    o10TestMSE += float(o10SqdErr)/len(D_test[0])\n",
    "\n",
    "                o2TestMSEs.append(o2TestMSE)\n",
    "                o10TestMSEs.append(o10TestMSE)\n",
    "\n",
    "            avgO2TestMSE = 0\n",
    "            avgO10TestMSE = 0\n",
    "            for i in range(0, len(o2TestMSEs)):\n",
    "                avgO2TestMSE += float(o2TestMSEs[i])/len(o2TestMSEs)\n",
    "                avgO10TestMSE += float(o10TestMSEs[i])/len(o10TestMSEs)\n",
    "\n",
    "            o2AvgTestMSEs.append(avgO2TestMSE)\n",
    "            o10AvgTestMSEs.append(avgO10TestMSE)"
   ]
  },
  {
   "cell_type": "code",
   "execution_count": 101,
   "metadata": {},
   "outputs": [
    {
     "name": "stdout",
     "output_type": "stream",
     "text": [
      "[9.973266571584917e-05, 0.00254212617306974, 0.010834643871775235, 0.2606997545237652, 1.0161649835657054, 429.1213363058598, 195.78103219068907, 10009.270103607483, 217.61177923352963, 369617.9024039437, 252.695203189809, 6744.690735783332, 2053.4011542898643, 3122.620070060361, 1998.0937569557311, 6336.100183678717, 64714.659678352364, 3146.1692263440113, 88601.99158965136, 15821.667892585881, 0.00010220795626153227, 0.002535576000326178, 0.010197798999924554, 0.26076409586775917, 1.0241058888207095, 175.89049316193197, 647.5273912832906, 3070.8717475157314, 493449.05449019215, 1337.763556309225, 362.2302149945804, 1060.3674924721156, 139696.17935628042, 321177.9126151434, 498.951966868121, 580.5817916054959, 282.2841394687083, 1357.8989060572642, 295.36647000347864, 221.06971412609838, 0.00010020258161992833, 0.002517207694479989, 0.010103126061525827, 0.25118199101595334, 1.0017614924760332, 1938.6227740584973, 35419.618440055754, 112356.92103371635, 8684.54482037487, 43557.5523302718, 1806.4154089337896, 596588.2632979783, 667.4617533236972, 3858.3818578427563, 4570.4134668211855, 1513.943821277908, 840.456373351894, 825.9252033399287, 1100.108877099065, 6123.530113520905, 9.98973659434424e-05, 0.0025008773803620304, 0.010025134281332417, 0.24889723625376173, 0.9988412309300475, 668.7968962557902, 28725.781982611614, 299.4528619138498, 281.56390928483717, 751.5294928494535, 3928.0188881050362, 1644.5660141763758, 1838.0880832464318, 2314.434178429303, 322.81565990631776, 519.0295207725684, 902.9335057122065, 330.489301792945, 7825.375917726124, 163.25065471988734, 9.994511962579795e-05, 0.0025044475291730083, 0.010005051080868573, 0.24991428050033432, 1.0012821023237841, 1412.4307198617037, 1232.8423535725553, 211.32681334340205, 75.31098047766557, 114.18512632415933, 288.62015704905536, 53399.77976206758, 15431.778064268721, 844.5026109953188, 504.27658888724164, 5078.65925786338, 4293.324062037899, 272.8812057353547, 749.8368286046629, 3881.9256806161175, 9.995466306234372e-05, 0.0024980436813045906, 0.010009747520016002, 0.25017341476815347, 1.000293904627379, 2734.5688957343127, 470.4239658043588, 638.6494489214895, 416.5580415592842, 567.0084932014339, 196.18721447819627, 1139.0722349314972, 90332.07417247174, 354.80966968759975, 1057.4048557764847, 4469.422307065239, 273005.62830077327, 31867.432548644636, 1107.3615589668614, 570.0175443007882]\n"
     ]
    }
   ],
   "source": [
    "print(o2AvgTestMSEs)"
   ]
  },
  {
   "cell_type": "code",
   "execution_count": 102,
   "metadata": {},
   "outputs": [
    {
     "name": "stdout",
     "output_type": "stream",
     "text": [
      "[0.0002588857095676121, 0.005731946212603433, 0.021373124943193853, 0.5144534896874029, 3.5795259299949875, 933.6168649755975, 592.7494605423349, 16749.977726275858, 341.88612951303634, 472965.07706119854, 582.7776657245975, 7701.7800776728745, 3025.3893490886603, 3461.6462113286116, 2092.720541618195, 6676.431168123585, 132381.82757464377, 3133.3996547467204, 108866.40626792537, 26966.941751157323, 0.0001159617150329293, 0.0028470463595659428, 0.011536996187632945, 0.2933369074629778, 1.1457961134411698, 183.7980221107287, 792.1499810618983, 3507.37125995148, 579664.8629119719, 1434.6260050813214, 451.2733805046412, 1204.4418145872207, 149004.25476804964, 444339.86486501276, 649.0957697992766, 650.2649662390172, 363.57614471622867, 2020.8216345875371, 403.8816870222983, 260.2767433108452, 0.00010248247515119942, 0.0025764151743780384, 0.010317601034849579, 0.2568567008768678, 1.0248273197613296, 1990.2134290111844, 36379.0652934515, 114346.0733677768, 8837.477747417744, 45330.484777791375, 1872.168955856035, 603665.4090283769, 682.0163278344293, 3935.9168120561103, 4584.686431140069, 1529.2714325392233, 869.5583660631471, 837.75717308927, 1207.245369950441, 6159.060277084272, 0.00010094381664175425, 0.0025268721367033933, 0.010147405113647383, 0.25167898156083657, 1.010353016709161, 675.2995400917052, 29003.452478998213, 301.12683441930244, 283.83904450070276, 763.0319087270343, 4050.4528620402216, 1663.3756364549256, 1856.014553500275, 2278.6472876119146, 326.28193742440163, 526.5324775667797, 913.6456933636568, 333.963702433969, 7958.3694951624075, 164.72538352439275, 0.00010018052507877856, 0.0025102854281977786, 0.010026814801020124, 0.25046272644756534, 1.0036135683103342, 1413.5773574644315, 1235.0436631933976, 211.69176018572583, 75.49899405878595, 114.48740575612261, 289.14160981152247, 53650.86224895109, 15430.371953785983, 846.2093968507385, 504.8928172357078, 5097.457809594468, 4300.297223081831, 273.8268659985538, 751.5298093635884, 3888.8532651663977, 0.00010006618153129562, 0.0025007717380047577, 0.010021526777816347, 0.2504646021468686, 1.001431918995463, 2737.001959375816, 470.53963774192584, 638.7519037174711, 417.7448865518132, 567.3581758119698, 196.3406813087331, 1139.8838090153963, 90488.79110593222, 354.8313937193675, 1058.835798283429, 4471.016654986706, 273288.2286003733, 31887.808833612136, 1108.281038421263, 569.9530424300133]\n"
     ]
    }
   ],
   "source": [
    "print(o10AvgTestMSEs)"
   ]
  },
  {
   "cell_type": "code",
   "execution_count": 105,
   "metadata": {},
   "outputs": [
    {
     "name": "stdout",
     "output_type": "stream",
     "text": [
      "17\n",
      "73\n",
      "92\n",
      "119\n"
     ]
    }
   ],
   "source": [
    "for i in range(0, len(o2AvgTestMSEs)):\n",
    "    val = o2AvgTestMSEs[i] < o10AvgTestMSEs[i]\n",
    "    if (not val):\n",
    "        print(i)"
   ]
  }
 ],
 "metadata": {
  "kernelspec": {
   "display_name": "Python 3",
   "language": "python",
   "name": "python3"
  },
  "language_info": {
   "codemirror_mode": {
    "name": "ipython",
    "version": 3
   },
   "file_extension": ".py",
   "mimetype": "text/x-python",
   "name": "python",
   "nbconvert_exporter": "python",
   "pygments_lexer": "ipython3",
   "version": "3.6.7"
  }
 },
 "nbformat": 4,
 "nbformat_minor": 2
}
